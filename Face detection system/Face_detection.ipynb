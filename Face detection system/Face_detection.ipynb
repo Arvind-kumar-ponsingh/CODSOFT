{
 "cells": [
  {
   "cell_type": "code",
   "execution_count": null,
   "id": "665acd00",
   "metadata": {},
   "outputs": [],
   "source": [
    "import cv2"
   ]
  },
  {
   "cell_type": "code",
   "execution_count": null,
   "id": "09395c1d",
   "metadata": {},
   "outputs": [],
   "source": [
    "img = cv2.imread('friends1.png')\n",
    "\n",
    "# face cascade\n",
    "face_cas = cv2.CascadeClassifier('haarcascade_frontalface_default.xml')\n",
    "\n",
    "# face detection function\n",
    "def detect_face(img):\n",
    "    \n",
    "    face_img = img.copy()\n",
    "    \n",
    "    face_rect = face_cas.detectMultiScale(face_img, scaleFactor=1.3, minNeighbors=3)\n",
    "    \n",
    "    for (x,y,w,h) in face_rect:\n",
    "        cv2.rectangle(face_img, (x,y), (x+w,y+h), (0,0,255), 2)\n",
    "        \n",
    "    return face_img"
   ]
  },
  {
   "cell_type": "code",
   "execution_count": null,
   "id": "4a47f97f",
   "metadata": {},
   "outputs": [],
   "source": [
    "# apply the face detection function\n",
    "face_img = detect_face(img)\n",
    "\n",
    "# display the result\n",
    "cv2.imshow('Original Image', img)\n",
    "cv2.imshow('Detected Face', face_img)\n",
    "cv2.waitKey(0)\n",
    "cv2.destroyAllWindows()"
   ]
  }
 ],
 "metadata": {
  "kernelspec": {
   "display_name": "Python 3 (ipykernel)",
   "language": "python",
   "name": "python3"
  },
  "language_info": {
   "codemirror_mode": {
    "name": "ipython",
    "version": 3
   },
   "file_extension": ".py",
   "mimetype": "text/x-python",
   "name": "python",
   "nbconvert_exporter": "python",
   "pygments_lexer": "ipython3",
   "version": "3.11.5"
  }
 },
 "nbformat": 4,
 "nbformat_minor": 5
}
